{
 "cells": [
  {
   "cell_type": "code",
   "execution_count": null,
   "metadata": {},
   "outputs": [],
   "source": [
    "import os\n",
    "import nrbdaq.instr.avo as avo\n",
    "from nrbdaq.utils.utils import load_config\n",
    "from nrbdaq.utils.sftp import SFTPClient\n",
    "\n",
    "def main():\n",
    "    config = load_config('nrbdaq.yaml')\n",
    "    urls = config['AVO']['urls']\n",
    "    file_path = os.path.join(os.path.expanduser(config['root']), config['AVO']['data'])\n",
    "    staging = os.path.join(os.path.expanduser(config['root']), config['AVO']['staging'])\n",
    "    avo.download_multiple(urls=urls, file_path=file_path, staging=staging)\n",
    "\n",
    "    # setup sftp client and transfer files\n",
    "    sftp = SFTPClient(config=config)\n",
    "    remote_path = os.path.join(config['sftp']['remote_path'], config['AVO']['remote_path'])\n",
    "    sftp.transfer_files(local_path=staging, remote_path=remote_path)\n",
    "\n",
    "if __name__ == \"__main__\":\n",
    "    main()"
   ]
  }
 ],
 "metadata": {
  "kernelspec": {
   "display_name": "Python 3",
   "language": "python",
   "name": "python3"
  },
  "language_info": {
   "codemirror_mode": {
    "name": "ipython",
    "version": 3
   },
   "file_extension": ".py",
   "mimetype": "text/x-python",
   "name": "python",
   "nbconvert_exporter": "python",
   "pygments_lexer": "ipython3",
   "version": "3.11.7"
  }
 },
 "nbformat": 4,
 "nbformat_minor": 2
}
