{
 "cells": [
  {
   "cell_type": "code",
   "execution_count": null,
   "id": "4e250ac1",
   "metadata": {},
   "outputs": [],
   "source": [
    "import socket\n",
    "import time\n",
    "UDP_IP = \"192.168.0.216\"\n",
    "UDP_PORT = 56790\n",
    "\n",
    "sock = socket.socket(socket.AF_INET,\n",
    "socket.SOCK_DGRAM)\n",
    "sock.bind((UDP_IP, UDP_PORT))\n",
    "\n",
    "while True:\n",
    "    data, addr = sock.recvfrom(1024)\n",
    "    print(f\"rcd:{data}\")\n",
    "    time.sleep(0.1)\n",
    "\n"
   ]
  },
  {
   "cell_type": "code",
   "execution_count": 11,
   "id": "a8c697cd",
   "metadata": {},
   "outputs": [
    {
     "name": "stdout",
     "output_type": "stream",
     "text": [
      "Serial port opened successfully.\n",
      "Waiting for data...\n",
      "Received: <getVal 60; 61; 64>\n",
      "\n",
      "Stopping.\n"
     ]
    }
   ],
   "source": [
    "import serial\n",
    "import time\n",
    "\n",
    "# Open COM5 (on Windows) or /dev/ttyS5 (on Linux), adjust accordingly\n",
    "ser = serial.Serial(\n",
    "    port='/dev/ttyUSB0',        # Use '/dev/ttyS5' or '/dev/ttyUSB0' on Linux\n",
    "    baudrate=57600,\n",
    "    bytesize=serial.EIGHTBITS,\n",
    "    parity=serial.PARITY_NONE,\n",
    "    stopbits=serial.STOPBITS_ONE,\n",
    "    timeout=1           # Optional: read timeout in seconds\n",
    ")\n",
    "\n",
    "if ser.is_open:\n",
    "    print(\"Serial port opened successfully.\")\n",
    "\n",
    "# Example write and read (optional)\n",
    "ser.write(b'<getVal 60; 61; 64>')\n",
    "\n",
    "# Optional: wait for device to initialize\n",
    "time.sleep(1)\n",
    "\n",
    "# Loop until data is received\n",
    "print(\"Waiting for data...\")\n",
    "try:\n",
    "    while True:\n",
    "        if ser.in_waiting > 0:\n",
    "            data = ser.read(ser.in_waiting)  # Read all available bytes\n",
    "            print(\"Received:\", data.decode(errors='ignore'))\n",
    "        time.sleep(0.1)  # Avoid busy-waiting\n",
    "except KeyboardInterrupt:\n",
    "    print(\"\\nStopping.\")\n",
    "\n",
    "# Cleanup\n",
    "ser.close()"
   ]
  }
 ],
 "metadata": {
  "kernelspec": {
   "display_name": ".venv",
   "language": "python",
   "name": "python3"
  },
  "language_info": {
   "codemirror_mode": {
    "name": "ipython",
    "version": 3
   },
   "file_extension": ".py",
   "mimetype": "text/x-python",
   "name": "python",
   "nbconvert_exporter": "python",
   "pygments_lexer": "ipython3",
   "version": "3.11.2"
  }
 },
 "nbformat": 4,
 "nbformat_minor": 5
}
