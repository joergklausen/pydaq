{
 "cells": [
  {
   "cell_type": "code",
   "execution_count": 3,
   "id": "4e250ac1",
   "metadata": {},
   "outputs": [
    {
     "ename": "OSError",
     "evalue": "[Errno 99] Cannot assign requested address",
     "output_type": "error",
     "traceback": [
      "\u001b[31m---------------------------------------------------------------------------\u001b[39m",
      "\u001b[31mOSError\u001b[39m                                   Traceback (most recent call last)",
      "\u001b[36mCell\u001b[39m\u001b[36m \u001b[39m\u001b[32mIn[3]\u001b[39m\u001b[32m, line 8\u001b[39m\n\u001b[32m      4\u001b[39m UDP_PORT = \u001b[32m56790\u001b[39m\n\u001b[32m      6\u001b[39m sock = socket.socket(socket.AF_INET,\n\u001b[32m      7\u001b[39m socket.SOCK_DGRAM)\n\u001b[32m----> \u001b[39m\u001b[32m8\u001b[39m \u001b[43msock\u001b[49m\u001b[43m.\u001b[49m\u001b[43mbind\u001b[49m\u001b[43m(\u001b[49m\u001b[43m(\u001b[49m\u001b[43mUDP_IP\u001b[49m\u001b[43m,\u001b[49m\u001b[43m \u001b[49m\u001b[43mUDP_PORT\u001b[49m\u001b[43m)\u001b[49m\u001b[43m)\u001b[49m\n\u001b[32m     10\u001b[39m \u001b[38;5;28;01mwhile\u001b[39;00m \u001b[38;5;28;01mTrue\u001b[39;00m:\n\u001b[32m     11\u001b[39m     data, addr = sock.recvfrom(\u001b[32m1024\u001b[39m)\n",
      "\u001b[31mOSError\u001b[39m: [Errno 99] Cannot assign requested address"
     ]
    }
   ],
   "source": [
    "import socket\n",
    "import time\n",
    "UDP_IP = \"192.168.0.179\"\n",
    "UDP_PORT = 56790\n",
    "\n",
    "sock = socket.socket(socket.AF_INET,\n",
    "socket.SOCK_DGRAM)\n",
    "sock.bind((UDP_IP, UDP_PORT))\n",
    "\n",
    "while True:\n",
    "    data, addr = sock.recvfrom(1024)\n",
    "    print(f\"rcd:{data}\")\n",
    "    time.sleep(0.1)\n",
    "\n"
   ]
  }
 ],
 "metadata": {
  "kernelspec": {
   "display_name": ".venv",
   "language": "python",
   "name": "python3"
  },
  "language_info": {
   "codemirror_mode": {
    "name": "ipython",
    "version": 3
   },
   "file_extension": ".py",
   "mimetype": "text/x-python",
   "name": "python",
   "nbconvert_exporter": "python",
   "pygments_lexer": "ipython3",
   "version": "3.11.2"
  }
 },
 "nbformat": 4,
 "nbformat_minor": 5
}
