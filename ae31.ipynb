{
 "cells": [
  {
   "cell_type": "code",
   "execution_count": null,
   "metadata": {},
   "outputs": [],
   "source": [
    "import os\n",
    "from nrbdaq.instr.ae31 import AE31\n",
    "from nrbdaq.utils.utils import load_config\n",
    "from nrbdaq.utils.sftp import SFTPClient\n",
    "\n",
    "def main():\n",
    "    config = load_config('nrbdaq.yaml')\n",
    "\n",
    "    # setup AE31 and SFTPClient\n",
    "    ae31 = AE31(config=config)\n",
    "    sftp = SFTPClient(config=config)\n",
    "\n",
    "    # configure file transfer\n",
    "    staging = os.path.join(os.path.expanduser(config['root']), ae31.staging_path)\n",
    "    remote_path = os.path.join(sftp.remote_path, ae31.remote_path)\n",
    "\n",
    "    # transfer staged files\n",
    "    sftp.transfer_files(localpath=staging, remotepath=remote_path)\n",
    "\n",
    "if __name__ == \"__main__\":\n",
    "    main()"
   ]
  }
 ],
 "metadata": {
  "kernelspec": {
   "display_name": "gawkenya",
   "language": "python",
   "name": "python3"
  },
  "language_info": {
   "codemirror_mode": {
    "name": "ipython",
    "version": 3
   },
   "file_extension": ".py",
   "mimetype": "text/x-python",
   "name": "python",
   "nbconvert_exporter": "python",
   "pygments_lexer": "ipython3",
   "version": "3.11.7"
  }
 },
 "nbformat": 4,
 "nbformat_minor": 2
}
